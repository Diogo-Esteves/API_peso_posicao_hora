{
 "cells": [
  {
   "cell_type": "markdown",
   "metadata": {},
   "source": [
    "### API REST para desafio: Peso de animais com grande porte\n",
    "<br>\n",
    "<br>\n",
    "\n",
    "#### Descrição das tecnologias utilizadas:<br>\n",
    "- Python: por ser uma linguagem de alto nível com boa aceitação no mercado e bem estruturada para sistemas web.<br>\n",
    "- Flask: biblioteca para criação de sistemas web, leve e bom para ir aumentando o projeto conforme necessidade. <br>\n",
    "- Flask-RESTFul: biblioteca para criação as API's, com grande abrangência para tal tecnologia. <br>\n",
    "- Jupyter Lab:editor que venho trabalhando e uso para apresentar o material descritivo conforme necessidade, trabalhando com os notebooks posso gerar documento estruturando texto e código, sendo bom para uma apresentação, gera o arquivo .ipynb.<br>\n",
    "- Github: https://github.com/Diogo-Esteves/API_peso_posicao_hora <br>\n",
    "- Link API em \"prod\": <br>\n"
   ]
  },
  {
   "cell_type": "markdown",
   "metadata": {},
   "source": [
    "#### Abaixo estão os arquivos .py e comandos que utilizei para rodar o projeto via notebooks python:"
   ]
  },
  {
   "cell_type": "markdown",
   "metadata": {},
   "source": [
    "app.py"
   ]
  },
  {
   "cell_type": "code",
   "execution_count": 2,
   "metadata": {},
   "outputs": [
    {
     "name": "stdout",
     "output_type": "stream",
     "text": [
      "Overwriting app.py\n"
     ]
    }
   ],
   "source": [
    "%%writefile app.py\n",
    "\n",
    "\n",
    "from flask import Flask\n",
    "from flask_restful import Api\n",
    "from entradas import EntradaDados, ListaDados\n",
    "\n",
    "app = Flask(__name__)\n",
    "app.secret_key = 'desafio_bosch'\n",
    "api = Api(app)\n",
    "\n",
    "# api.add_resource(EntradaDados, '/entrada/<int:peso>/<float:posicaolat>//<float:posicaolon>/<float:horario>')\n",
    "api.add_resource(EntradaDados, '/entrada/<int:peso>/')\n",
    "api.add_resource(ListaDados, '/listadedados')\n",
    "\n",
    "\n",
    "if __name__ == '__main__':\n",
    "    app.run(port=5000, debug=False)"
   ]
  },
  {
   "cell_type": "markdown",
   "metadata": {},
   "source": [
    "create_tables.py"
   ]
  },
  {
   "cell_type": "code",
   "execution_count": 3,
   "metadata": {},
   "outputs": [
    {
     "name": "stdout",
     "output_type": "stream",
     "text": [
      "Writing create_tables.py\n"
     ]
    }
   ],
   "source": [
    "%%writefile create_tables.py\n",
    "\n",
    "import sqlite3\n",
    "\n",
    "connection = sqlite3.connect('data_wei_pos_tim.db')\n",
    "cursor = connection.cursor()\n",
    "\n",
    "create_table = \"CREATE TABLE IF NOT EXISTS dados (peso real, posicaolon float, posicaolat float , horario float)\"\n",
    "cursor.execute(create_table)\n",
    "\n",
    "connection.commit()\n",
    "\n",
    "connection.close()"
   ]
  },
  {
   "cell_type": "markdown",
   "metadata": {},
   "source": [
    "entradas.py"
   ]
  },
  {
   "cell_type": "code",
   "execution_count": 4,
   "metadata": {},
   "outputs": [
    {
     "name": "stdout",
     "output_type": "stream",
     "text": [
      "Writing entradas.py\n"
     ]
    }
   ],
   "source": [
    "%%writefile entradas.py\n",
    "\n",
    "\n",
    "import sqlite3\n",
    "from flask_restful import Resource, reqparse\n",
    "\n",
    "\n",
    "class EntradaDados(Resource):\n",
    "    \"\"\" Classe para definir o metodo post para a entrada de dados no banco\"\"\"\n",
    "\n",
    "    parser = reqparse.RequestParser()\n",
    "    # parser.add_argument('peso',\n",
    "    #                     type=float,\n",
    "    #                     required=True,\n",
    "    #                     help=\"This field cannot be blank\")\n",
    "    parser.add_argument('posicaolat',\n",
    "                        type=str,\n",
    "                        required=True,\n",
    "                        help=\"This field cannot be blank\")\n",
    "    parser.add_argument('posicaolon',\n",
    "                        type=str,\n",
    "                        required=True,\n",
    "                        help=\"This field cannot be blank\")\n",
    "    parser.add_argument('hora',\n",
    "                        type=str,\n",
    "                        required=True,\n",
    "                        help=\"This field cannot be blank\")\n",
    "\n",
    "\n",
    "    def post(self, peso):\n",
    "        # if ListaDados.find_by_name():\n",
    "            # return {'message': \"An item with the time '{}' already exists.\".format(hora)}, 400\n",
    "\n",
    "        data = EntradaDados.parser.parse_args()\n",
    "        item = {'peso': peso, 'hora': data['hora'],\n",
    "               'posicao': data['posicaolat']+ \" \"+data['posicaolon']}\n",
    "        \n",
    "        try:\n",
    "            self.insert(item)\n",
    "        except:\n",
    "            return {'message': 'An error occurred inserting item'}, 500  # Something went wrong\n",
    "        \n",
    "        return item, 201\n",
    "\n",
    "    @classmethod\n",
    "    def insert(self, item):\n",
    "        connection = sqlite3.connect('data_wei_pos_tim.db')\n",
    "        cursor = connection.cursor()\n",
    "\n",
    "        query = \"INSERT INTO dados VALUES (?, ?, ?)\"\n",
    "        cursor.execute(query, (item['peso'],item['hora'],item['posicao'],))\n",
    "\n",
    "        connection.commit()\n",
    "        connection.close()\n",
    "\n",
    "\n",
    "class ListaDados(Resource):\n",
    "    \"\"\" Classe para definir o metodo get para a coleta de dados no banco\"\"\"\n",
    "\n",
    "    def get(self):\n",
    "        item = self.find_by_name()\n",
    "        # if item:\n",
    "        #     return item\n",
    "        return {'Entradas': item}, 201\n",
    "\n",
    "    @classmethod\n",
    "    def find_by_name(self):\n",
    "        connection = sqlite3.connect('data_wei_pos_tim.db')\n",
    "        cursor = connection.cursor()\n",
    "\n",
    "        query = \"SELECT * FROM dados\"\n",
    "        result = cursor.execute(query)\n",
    "\n",
    "        items = []\n",
    "        for row in result:\n",
    "            items.append({'peso': row[0], 'hora': row[1], 'posicao': row[2]})\n",
    "\n",
    "        if result:\n",
    "            return items\n",
    "\n",
    "        connection.commit()\n",
    "        connection.close()\n"
   ]
  },
  {
   "cell_type": "code",
   "execution_count": null,
   "metadata": {},
   "outputs": [],
   "source": []
  }
 ],
 "metadata": {
  "kernelspec": {
   "display_name": "Python 3",
   "language": "python",
   "name": "python3"
  },
  "language_info": {
   "codemirror_mode": {
    "name": "ipython",
    "version": 3
   },
   "file_extension": ".py",
   "mimetype": "text/x-python",
   "name": "python",
   "nbconvert_exporter": "python",
   "pygments_lexer": "ipython3",
   "version": "3.6.6"
  }
 },
 "nbformat": 4,
 "nbformat_minor": 2
}
