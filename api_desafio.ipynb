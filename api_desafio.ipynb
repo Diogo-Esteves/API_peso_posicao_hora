{
 "cells": [
  {
   "cell_type": "markdown",
   "metadata": {},
   "source": [
    "### API REST para desafio: Peso de animais com grande porte\n",
    "<br>\n",
    "<br>\n",
    "\n",
    "#### Descrição das tecnologias utilizadas:<br>\n",
    "- Python: por ser uma linguagem de alto nível com boa aceitação no mercado e bem estruturada para sistemas web.<br>\n",
    "- Flask: biblioteca para criação de sistemas web, leve e bom para ir aumentando o projeto conforme necessidade <br>\n",
    "- Flask-RESTFul: biblioteca para criação as API's <br>\n",
    "- Jupyter Lab: editor que venho trabalhando e uso para apresentar o material descritivo conforme necessidade.<br>\n",
    "- Github: <br>\n",
    "- Link API em \"prod\": <br>\n"
   ]
  },
  {
   "cell_type": "markdown",
   "metadata": {},
   "source": [
    "#### Abaixo estão os arquivos .py e comandos que utilizei para rodar o projeto via notebooks python:"
   ]
  },
  {
   "cell_type": "markdown",
   "metadata": {},
   "source": [
    "app.py"
   ]
  },
  {
   "cell_type": "code",
   "execution_count": 2,
   "metadata": {},
   "outputs": [
    {
     "name": "stdout",
     "output_type": "stream",
     "text": [
      "Overwriting app.py\n"
     ]
    }
   ],
   "source": [
    "%%writefile app.py\n",
    "\n",
    "from flask import Flask\n",
    "from flask_restful import Api\n",
    "\n",
    "app = Flask(__name__)\n",
    "app.secret_key = 'desafio_bosch'\n",
    "api = Api(app)\n",
    "\n",
    "api.add_resource(EntradaDados, '/entrada/<int:peso>/<float:posicao>/<datime:horario>')\n",
    "api.add_resource(ListaDados, '/listadedados/')\n",
    "\n",
    "\n",
    "if __name__ == '__main__':\n",
    "    app.run(port=5000, debug=True)"
   ]
  },
  {
   "cell_type": "markdown",
   "metadata": {},
   "source": [
    "create_tables.py"
   ]
  },
  {
   "cell_type": "code",
   "execution_count": 3,
   "metadata": {},
   "outputs": [
    {
     "name": "stdout",
     "output_type": "stream",
     "text": [
      "Writing create_tables.py\n"
     ]
    }
   ],
   "source": [
    "%%writefile create_tables.py\n",
    "\n",
    "import sqlite3\n",
    "\n",
    "connection = sqlite3.connect('data_wei_pos_tim.db')\n",
    "cursor = connection.cursor()\n",
    "\n",
    "create_table = \"CREATE TABLE IF NOT EXISTS dados (peso real,posicao real , horario datetime)\"\n",
    "cursor.execute(create_table)\n",
    "\n",
    "connection.commit()\n",
    "\n",
    "connection.close()"
   ]
  },
  {
   "cell_type": "markdown",
   "metadata": {},
   "source": [
    "entradas.py"
   ]
  },
  {
   "cell_type": "code",
   "execution_count": 4,
   "metadata": {},
   "outputs": [
    {
     "name": "stdout",
     "output_type": "stream",
     "text": [
      "Writing entradas.py\n"
     ]
    }
   ],
   "source": [
    "%%writefile entradas.py\n",
    "\n",
    "import sqlite3\n",
    "from flask_restful import Resource\n",
    "\n",
    "class EntradaDados(Resource):\n",
    "    \"\"\" Classe para definir o metodo post para a entrada de dados no banco\"\"\"\n",
    "    def post(self, name):\n",
    "        if self.find_by_name(name):\n",
    "            return {'message': \"An item with name '{}' already exists.\".format(name)},400\n",
    "            \n",
    "        data = Item.parser.parse_args()\n",
    "        item = {'name': name, 'price': data['price']}\n",
    "        \n",
    "        try:\n",
    "            self.insert(item)\n",
    "        except:\n",
    "            return {'messa': 'An error occurred inserting item'},500 # Something went wrong\n",
    "        \n",
    "        return item, 201\n",
    "\n",
    "\n",
    "class ListaDados(Resource):\n",
    "    \"\"\" Classe para definir o metodo get para a coleta de dados no banco\"\"\"\n",
    "\n",
    "    def get(self):\n",
    "        connection = sqlite3.connect('data.db')\n",
    "        cursor = connection.cursor()\n",
    "        \n",
    "        query = \"SELECT * FROM items\"\n",
    "        result = cursor.execute(query)\n",
    "        items = []\n",
    "        for row in result:\n",
    "            items.append({'name':row[0], 'price': row[1]})\n",
    "        \n",
    "        connection.commit()\n",
    "        connection.close()\n",
    "                                    \n",
    "        return {'items': items}\n",
    "    \n",
    "    @classmethod\n",
    "    def all_items(self):\n",
    "        connection = sqlite3.connect('data_wei_pos_tim.db')\n",
    "        cursor = connection.cursor()\n",
    "        \n",
    "        query = \"SELECT * FROM dados\"\n",
    "        result = cursor.execute(query,)\n",
    "        row = result.fetchone()\n",
    "        connection.close()\n",
    "        \n",
    "        if row:\n",
    "            return {\"item\":row[0]}"
   ]
  },
  {
   "cell_type": "code",
   "execution_count": null,
   "metadata": {},
   "outputs": [],
   "source": []
  }
 ],
 "metadata": {
  "kernelspec": {
   "display_name": "Python 3",
   "language": "python",
   "name": "python3"
  },
  "language_info": {
   "codemirror_mode": {
    "name": "ipython",
    "version": 3
   },
   "file_extension": ".py",
   "mimetype": "text/x-python",
   "name": "python",
   "nbconvert_exporter": "python",
   "pygments_lexer": "ipython3",
   "version": "3.6.6"
  }
 },
 "nbformat": 4,
 "nbformat_minor": 2
}
